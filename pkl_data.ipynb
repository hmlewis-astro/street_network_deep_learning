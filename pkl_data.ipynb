{
 "cells": [
  {
   "cell_type": "markdown",
   "metadata": {},
   "source": [
    "# Download Kaggle API credentials\n",
    "#### **Note**: This is a one-time step and you don’t need to generate the credentials every time you download the dataset.\n",
    "- Navigate to your Kaggle profile\n",
    "- Click the \"Account\" tab\n",
    "- Scroll down to the \"API\" section\n",
    "- Click \"Create New API Token\"; a file named `kaggle.json` will be download which contains your username and API key\n",
    "- Move the `kaggle.json` file to the same directory as this notebook\n"
   ]
  },
  {
   "cell_type": "code",
   "execution_count": 1,
   "metadata": {},
   "outputs": [
    {
     "name": "stdout",
     "output_type": "stream",
     "text": [
      "Downloading deepglobe-road-extraction-dataset.zip to /Users/Hannah/Code/Metis/projects/street_network_deep_learning\n",
      "100%|██████████████████████████████████████| 3.79G/3.79G [01:33<00:00, 45.3MB/s]\n",
      "100%|██████████████████████████████████████| 3.79G/3.79G [01:33<00:00, 43.5MB/s]\n"
     ]
    }
   ],
   "source": [
    "!pip install -q kaggle\n",
    "!mkdir ~/.kaggle\n",
    "!cp kaggle.json ~/.kaggle/\n",
    "!chmod 600 ~/.kaggle/kaggle.json\n",
    "!kaggle datasets download balraj98/deepglobe-road-extraction-dataset"
   ]
  },
  {
   "cell_type": "code",
   "execution_count": 2,
   "metadata": {},
   "outputs": [],
   "source": [
    "!unzip -q deepglobe-road-extraction-dataset.zip -d deep_globe"
   ]
  },
  {
   "cell_type": "code",
   "execution_count": 3,
   "metadata": {},
   "outputs": [],
   "source": [
    "!rm -rf deepglobe-road-extraction-dataset.zip"
   ]
  },
  {
   "cell_type": "markdown",
   "metadata": {
    "id": "p4dwawGDiTnF"
   },
   "source": [
    "# Import packages and libraries"
   ]
  },
  {
   "cell_type": "code",
   "execution_count": 4,
   "metadata": {},
   "outputs": [],
   "source": [
    "import os\n",
    "import glob\n",
    "import random\n",
    "from tqdm import tqdm\n",
    "import pickle\n",
    "\n",
    "import pandas as pd\n",
    "import numpy as np\n",
    "import matplotlib.pyplot as plt\n",
    "\n",
    "import cv2\n"
   ]
  },
  {
   "cell_type": "markdown",
   "metadata": {},
   "source": [
    "# Pickle training/validation data"
   ]
  },
  {
   "cell_type": "code",
   "execution_count": 5,
   "metadata": {
    "scrolled": true
   },
   "outputs": [],
   "source": [
    "def load_data(load_dict=None, sat_img_path=None, mask_path=None, shape=128):\n",
    "    img_names = os.listdir(sat_img_path)\n",
    "    mask_names = []\n",
    "    \n",
    "    for name in img_names:\n",
    "        name = name.split('_')[0]\n",
    "        if name not in mask_names:\n",
    "            mask_names.append(name)\n",
    "    \n",
    "    img_path = sat_img_path + '/'\n",
    "    mask_path = mask_path + '/'\n",
    "    \n",
    "    for i in tqdm(range(len(img_names)//2)):\n",
    "        try:\n",
    "            img = plt.imread(img_path + mask_names[i] + '_sat.jpg') \n",
    "            mask = plt.imread(mask_path + mask_names[i] + '_mask.png')\n",
    "            \n",
    "        except:\n",
    "            continue\n",
    "            \n",
    "        img = cv2.resize(img, (shape, shape))\n",
    "        mask = cv2.resize(mask, (shape, shape))\n",
    "        \n",
    "        load_dict['img'].append(img)\n",
    "        load_dict['mask'].append(mask[:,:,0])\n",
    "        \n",
    "    return load_dict\n"
   ]
  },
  {
   "cell_type": "code",
   "execution_count": 6,
   "metadata": {},
   "outputs": [],
   "source": [
    "image_size = 256\n"
   ]
  },
  {
   "cell_type": "code",
   "execution_count": 7,
   "metadata": {},
   "outputs": [
    {
     "name": "stderr",
     "output_type": "stream",
     "text": [
      "100%|██████████| 6226/6226 [08:49<00:00, 11.76it/s]\n"
     ]
    }
   ],
   "source": [
    "train_dict = {'img' : [], 'mask' : []}\n",
    "\n",
    "input_img_paths = 'deep_globe/train'\n",
    "target_img_paths = 'deep_globe/train'\n",
    "train_dict = load_data(train_dict, input_img_paths, target_img_paths, image_size)\n"
   ]
  },
  {
   "cell_type": "code",
   "execution_count": 8,
   "metadata": {},
   "outputs": [],
   "source": [
    "X_train, y_train = train_dict['img'], train_dict['mask']\n"
   ]
  },
  {
   "cell_type": "code",
   "execution_count": 9,
   "metadata": {},
   "outputs": [
    {
     "data": {
      "text/plain": [
       "((6226, 256, 256, 3), (6226, 256, 256))"
      ]
     },
     "execution_count": 9,
     "metadata": {},
     "output_type": "execute_result"
    }
   ],
   "source": [
    "np.array(X_train).shape, np.array(y_train).shape"
   ]
  },
  {
   "cell_type": "code",
   "execution_count": 10,
   "metadata": {},
   "outputs": [],
   "source": [
    "with open('deep-globe-sat-img-train.pkl', 'wb') as f:\n",
    "    pickle.dump(X_train, f, pickle.HIGHEST_PROTOCOL)\n",
    "\n",
    "with open('deep-globe-mask-train.pkl', 'wb') as f:\n",
    "    pickle.dump(y_train, f, pickle.HIGHEST_PROTOCOL)\n",
    "    "
   ]
  },
  {
   "cell_type": "markdown",
   "metadata": {},
   "source": [
    "# Pickle test data"
   ]
  },
  {
   "cell_type": "code",
   "execution_count": 16,
   "metadata": {},
   "outputs": [],
   "source": [
    "def load_test(load_dict=None, sat_img_path=None, shape=128):\n",
    "    img_names = os.listdir(sat_img_path)\n",
    "\n",
    "    img_path = sat_img_path + '/'\n",
    "    \n",
    "    for i in tqdm(range(len(img_names))):\n",
    "        try:\n",
    "            img = plt.imread(img_path + img_names[i]) \n",
    "            \n",
    "        except:\n",
    "            continue\n",
    "            \n",
    "        img = cv2.resize(img, (shape, shape))\n",
    "        \n",
    "        load_dict['img'].append(img)\n",
    "        \n",
    "    return load_dict\n"
   ]
  },
  {
   "cell_type": "code",
   "execution_count": 17,
   "metadata": {},
   "outputs": [
    {
     "name": "stderr",
     "output_type": "stream",
     "text": [
      "100%|██████████| 1101/1101 [00:59<00:00, 18.61it/s]\n",
      "100%|██████████| 1243/1243 [01:07<00:00, 18.51it/s]\n"
     ]
    }
   ],
   "source": [
    "test_dict = {'img' : []}\n",
    "\n",
    "input_img_paths = 'deep_globe/test'\n",
    "test_dict = load_test(test_dict, input_img_paths, image_size)\n",
    "\n",
    "input_img_paths = 'deep_globe/valid'\n",
    "test_dict = load_test(test_dict, input_img_paths, image_size)\n"
   ]
  },
  {
   "cell_type": "code",
   "execution_count": 18,
   "metadata": {},
   "outputs": [],
   "source": [
    "X_test = test_dict['img']\n"
   ]
  },
  {
   "cell_type": "code",
   "execution_count": 19,
   "metadata": {},
   "outputs": [
    {
     "data": {
      "text/plain": [
       "((6226, 256, 256, 3), (2344, 256, 256, 3))"
      ]
     },
     "execution_count": 19,
     "metadata": {},
     "output_type": "execute_result"
    }
   ],
   "source": [
    "np.array(X_train).shape, np.array(X_test).shape"
   ]
  },
  {
   "cell_type": "code",
   "execution_count": 20,
   "metadata": {},
   "outputs": [],
   "source": [
    "with open('deep-globe-sat-img-test.pkl', 'wb') as f:\n",
    "    pickle.dump(X_test, f, pickle.HIGHEST_PROTOCOL)\n",
    "    "
   ]
  },
  {
   "cell_type": "code",
   "execution_count": null,
   "metadata": {},
   "outputs": [],
   "source": []
  }
 ],
 "metadata": {
  "colab": {
   "authorship_tag": "ABX9TyM0orkuXdNe1IY6rCggyoWn",
   "include_colab_link": true,
   "name": "test_notebook.ipynb",
   "provenance": []
  },
  "kernelspec": {
   "display_name": "Python 3",
   "language": "python",
   "name": "python3"
  },
  "language_info": {
   "codemirror_mode": {
    "name": "ipython",
    "version": 3
   },
   "file_extension": ".py",
   "mimetype": "text/x-python",
   "name": "python",
   "nbconvert_exporter": "python",
   "pygments_lexer": "ipython3",
   "version": "3.7.7"
  }
 },
 "nbformat": 4,
 "nbformat_minor": 1
}
