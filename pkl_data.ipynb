{
  "nbformat": 4,
  "nbformat_minor": 0,
  "metadata": {
    "colab": {
      "name": "test_notebook.ipynb",
      "provenance": [],
      "authorship_tag": "ABX9TyMY7TpR59hGIT07kretDDOO",
      "include_colab_link": true
    },
    "kernelspec": {
      "name": "python3",
      "display_name": "Python 3"
    },
    "language_info": {
      "name": "python"
    },
    "accelerator": "GPU"
  },
  "cells": [
    {
      "cell_type": "markdown",
      "metadata": {
        "id": "view-in-github",
        "colab_type": "text"
      },
      "source": [
        "<a href=\"https://colab.research.google.com/github/hmlewis-astro/street_network_deep_learning/blob/main/pkl_data.ipynb\" target=\"_parent\"><img src=\"https://colab.research.google.com/assets/colab-badge.svg\" alt=\"Open In Colab\"/></a>"
      ]
    },
    {
      "cell_type": "markdown",
      "metadata": {
        "id": "0yzjpQAofZ1d"
      },
      "source": [
        "# Change to GPU runtime\n",
        "\n",
        "#### Navigate to \"Runtime > Change runtime type > GPU > Save\""
      ]
    },
    {
      "cell_type": "markdown",
      "metadata": {
        "id": "IVcnn78jeIQP"
      },
      "source": [
        "# Download Kaggle API credentials\n",
        "#### **Note**: This is a one-time step and you don’t need to generate the credentials every time you download the dataset.\n",
        "- Navigate to your Kaggle profile\n",
        "- Click the \"Account\" tab\n",
        "- Scroll down to the \"API\" section\n",
        "- Click \"Create New API Token\"; a file named `kaggle.json` will be download which contains your username and API key\n",
        "\n",
        "# Upload Kaggle API credentials to Google Colab\n",
        "#### **Note**: Uploaded files will get deleted when this runtime is recycled.\n",
        "- Upload the `kaggle.json` file that you just downloaded from Kaggle\n",
        "- Run the following cell"
      ]
    },
    {
      "cell_type": "code",
      "metadata": {
        "id": "-6sWzwKcbPxF",
        "colab": {
          "base_uri": "https://localhost:8080/"
        },
        "outputId": "2bde852d-fe8c-4e4a-a2de-da49fcdb0fd3"
      },
      "source": [
        "!pip install -q kaggle\n",
        "!mkdir ~/.kaggle\n",
        "!cp kaggle.json ~/.kaggle/\n",
        "!chmod 600 ~/.kaggle/kaggle.json\n",
        "!kaggle datasets download balraj98/deepglobe-road-extraction-dataset"
      ],
      "execution_count": 2,
      "outputs": [
        {
          "output_type": "stream",
          "name": "stdout",
          "text": [
            "Downloading deepglobe-road-extraction-dataset.zip to /content\n",
            "100% 3.79G/3.79G [01:07<00:00, 49.1MB/s]\n",
            "100% 3.79G/3.79G [01:07<00:00, 60.1MB/s]\n"
          ]
        }
      ]
    },
    {
      "cell_type": "code",
      "metadata": {
        "id": "Ztl-MeS9bVH4"
      },
      "source": [
        "!unzip -q /content/deepglobe-road-extraction-dataset.zip -d /content/deep-globe"
      ],
      "execution_count": 3,
      "outputs": []
    },
    {
      "cell_type": "code",
      "metadata": {
        "id": "QQ459vgNgLTT"
      },
      "source": [
        "!rm -rf /content/deepglobe-road-extraction-dataset.zip"
      ],
      "execution_count": 4,
      "outputs": []
    },
    {
      "cell_type": "markdown",
      "metadata": {
        "id": "p4dwawGDiTnF"
      },
      "source": [
        "# Import packages and libraries"
      ]
    },
    {
      "cell_type": "code",
      "metadata": {
        "id": "pZxAjuatiXHQ"
      },
      "source": [
        "import os\n",
        "import glob\n",
        "import random\n",
        "from tqdm import tqdm\n",
        "import pickle\n",
        "\n",
        "import pandas as pd\n",
        "import numpy as np\n",
        "import matplotlib.pyplot as plt\n",
        "\n",
        "import cv2\n"
      ],
      "execution_count": 5,
      "outputs": []
    },
    {
      "cell_type": "markdown",
      "metadata": {
        "id": "Zbn8x_kU4nLG"
      },
      "source": [
        "# Load data"
      ]
    },
    {
      "cell_type": "code",
      "metadata": {
        "id": "Na1TXDp74ebk"
      },
      "source": [
        "def load_data(load_dict=None, input_img_paths=None, target_img_paths=None, image_size=(128, 128)):\n",
        "    image_names = os.listdir(input_img_paths)\n",
        "    target_names = []\n",
        "\n",
        "    for name in image_names:\n",
        "        name = name.split('_')[0]\n",
        "        if name not in target_names:\n",
        "            target_names.append(name)\n",
        "    \n",
        "    image_dir = input_img_paths + '/'\n",
        "    target_dir = target_img_paths + '/'\n",
        "    \n",
        "    for i in tqdm(range(len(image_names))):\n",
        "        try:\n",
        "            img = plt.imread(image_dir + target_names[i] + '_sat.jpg') \n",
        "            target = plt.imread(target_dir + target_names[i] + '_mask.png')\n",
        "            \n",
        "        except:\n",
        "            continue\n",
        "\n",
        "        img = (cv2.resize(img, image_size) / 255.)\n",
        "        target = cv2.resize(target, image_size).astype(int)\n",
        "\n",
        "        load_dict['img'].append(img)\n",
        "        load_dict['mask'].append(target[:,:,0])\n",
        "        \n",
        "    return load_dict\n"
      ],
      "execution_count": 6,
      "outputs": []
    },
    {
      "cell_type": "code",
      "metadata": {
        "colab": {
          "base_uri": "https://localhost:8080/"
        },
        "id": "iR3866QnEmhV",
        "outputId": "dc4141a5-d8c5-4326-d7f2-ff05be1e26d3"
      },
      "source": [
        "image_size = (128, 128)\n",
        "\n",
        "train_dict = {'img' : [], 'mask' : []}\n",
        "\n",
        "input_img_paths = 'deep-globe/train'\n",
        "target_img_paths = 'deep-globe/train'\n",
        "train_dict = load_data(train_dict, input_img_paths, target_img_paths, image_size)"
      ],
      "execution_count": 7,
      "outputs": [
        {
          "output_type": "stream",
          "name": "stderr",
          "text": [
            "100%|██████████| 12452/12452 [06:54<00:00, 30.01it/s]\n"
          ]
        }
      ]
    },
    {
      "cell_type": "code",
      "metadata": {
        "id": "tOhBXIAYEyoA"
      },
      "source": [
        "X_train, y_train = train_dict['img'], train_dict['mask']"
      ],
      "execution_count": 8,
      "outputs": []
    },
    {
      "cell_type": "code",
      "metadata": {
        "colab": {
          "base_uri": "https://localhost:8080/"
        },
        "id": "EwTDzBBpQRA1",
        "outputId": "99c64e19-b88a-40c5-8d3a-ddbfc01d3303"
      },
      "source": [
        "len(X_train), X_train[-1].shape, len(y_train), y_train[-1].shape"
      ],
      "execution_count": 12,
      "outputs": [
        {
          "output_type": "execute_result",
          "data": {
            "text/plain": [
              "(6226, (128, 128, 3), 6226, (128, 128))"
            ]
          },
          "metadata": {},
          "execution_count": 12
        }
      ]
    },
    {
      "cell_type": "code",
      "metadata": {
        "id": "mY5y56_hMMbC"
      },
      "source": [
        "with open('deep-globe-sat-img-train.pkl', 'wb') as f:\n",
        "    pickle.dump(X_train, f, pickle.HIGHEST_PROTOCOL)\n",
        "\n",
        "with open('deep-globe-mask-train.pkl', 'wb') as f:\n",
        "    pickle.dump(y_train, f, pickle.HIGHEST_PROTOCOL)"
      ],
      "execution_count": 13,
      "outputs": []
    },
    {
      "cell_type": "code",
      "metadata": {
        "id": "a9QhL9KELvrj"
      },
      "source": [
        "def load_test(load_dict=None, input_img_paths=None, image_size=(128, 128)):\n",
        "    image_names = os.listdir(input_img_paths)\n",
        "\n",
        "    for name in image_names:\n",
        "        name = name.split('_')[0]\n",
        "    \n",
        "    image_dir = input_img_paths + '/'\n",
        "    \n",
        "    for i in tqdm(range(len(image_names))):\n",
        "        try:\n",
        "            img = plt.imread(image_dir + image_names[i]) \n",
        "            \n",
        "        except:\n",
        "            continue\n",
        "\n",
        "        img = (cv2.resize(img, image_size) / 255.)\n",
        "\n",
        "        load_dict['img'].append(img)\n",
        "        \n",
        "    return load_dict"
      ],
      "execution_count": 32,
      "outputs": []
    },
    {
      "cell_type": "code",
      "metadata": {
        "colab": {
          "base_uri": "https://localhost:8080/"
        },
        "id": "D6N6P6XCL5xt",
        "outputId": "30bc6759-e947-4c68-ef95-8330901a52f0"
      },
      "source": [
        "test_dict = {'img' : []}\n",
        "\n",
        "input_img_paths = 'deep-globe/test'\n",
        "test_dict = load_test(test_dict, input_img_paths, image_size)\n",
        "\n",
        "input_img_paths = 'deep-globe/valid'\n",
        "test_dict = load_test(test_dict, input_img_paths, image_size)\n"
      ],
      "execution_count": 33,
      "outputs": [
        {
          "output_type": "stream",
          "name": "stderr",
          "text": [
            "100%|██████████| 1101/1101 [00:28<00:00, 38.56it/s]\n",
            "100%|██████████| 1243/1243 [00:33<00:00, 37.33it/s]\n"
          ]
        }
      ]
    },
    {
      "cell_type": "code",
      "metadata": {
        "colab": {
          "base_uri": "https://localhost:8080/"
        },
        "id": "F2t00_uhNpfw",
        "outputId": "57f6447b-ed9e-496d-aa7b-41c3f3c5a525"
      },
      "source": [
        "len(test_dict['img'])"
      ],
      "execution_count": 35,
      "outputs": [
        {
          "output_type": "execute_result",
          "data": {
            "text/plain": [
              "2344"
            ]
          },
          "metadata": {},
          "execution_count": 35
        }
      ]
    },
    {
      "cell_type": "code",
      "metadata": {
        "id": "kPaCJntqJItp"
      },
      "source": [
        "X_test = test_dict['img']"
      ],
      "execution_count": 36,
      "outputs": []
    },
    {
      "cell_type": "code",
      "metadata": {
        "id": "1Nvld0YCM6OL"
      },
      "source": [
        "with open('deep-globe-sat-img-test.pkl', 'wb') as f:\n",
        "    pickle.dump(X_test, f, pickle.HIGHEST_PROTOCOL)"
      ],
      "execution_count": 37,
      "outputs": []
    },
    {
      "cell_type": "code",
      "metadata": {
        "id": "N6urx1WxOg2i"
      },
      "source": [
        ""
      ],
      "execution_count": null,
      "outputs": []
    }
  ]
}