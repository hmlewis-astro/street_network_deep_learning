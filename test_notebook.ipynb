{
  "nbformat": 4,
  "nbformat_minor": 0,
  "metadata": {
    "colab": {
      "name": "test_notebook.ipynb",
      "provenance": [],
      "authorship_tag": "ABX9TyPI7uZniUj+TWZ2tbga7ZnF",
      "include_colab_link": true
    },
    "kernelspec": {
      "name": "python3",
      "display_name": "Python 3"
    },
    "language_info": {
      "name": "python"
    }
  },
  "cells": [
    {
      "cell_type": "markdown",
      "metadata": {
        "id": "view-in-github",
        "colab_type": "text"
      },
      "source": [
        "<a href=\"https://colab.research.google.com/github/hmlewis-astro/street_network_deep_learning/blob/main/test_notebook.ipynb\" target=\"_parent\"><img src=\"https://colab.research.google.com/assets/colab-badge.svg\" alt=\"Open In Colab\"/></a>"
      ]
    },
    {
      "cell_type": "markdown",
      "metadata": {
        "id": "IVcnn78jeIQP"
      },
      "source": [
        "# Download Kaggle API credentials\n",
        "#### **Note**: This is a one-time step and you don’t need to generate the credentials every time you download the dataset.\n",
        "- Navigate to your Kaggle profile\n",
        "- Click the \"Account\" tab\n",
        "- Scroll down to the \"API\" section\n",
        "- Click \"Create New API Token\"; a file named `kaggle.json` will be download which contains your username and API key\n",
        "\n",
        "# Upload Kaggle API credentials to Google Colab\n",
        "#### **Note**: Uploaded files will get deleted when this runtime is recycled.\n",
        "- Upload the `kaggle.json` file that you just downloaded from Kaggle\n",
        "- Run the following cell"
      ]
    },
    {
      "cell_type": "code",
      "metadata": {
        "id": "-6sWzwKcbPxF",
        "outputId": "e59b25d3-8dd4-4bc3-f7b9-822183aedb6f",
        "colab": {
          "base_uri": "https://localhost:8080/"
        }
      },
      "source": [
        "!pip install -q kaggle\n",
        "!mkdir ~/.kaggle\n",
        "!cp kaggle.json ~/.kaggle/\n",
        "!chmod 600 ~/.kaggle/kaggle.json\n",
        "!kaggle datasets download balraj98/deepglobe-road-extraction-dataset"
      ],
      "execution_count": 1,
      "outputs": [
        {
          "output_type": "stream",
          "name": "stdout",
          "text": [
            "Downloading deepglobe-road-extraction-dataset.zip to /content\n",
            "100% 3.79G/3.79G [01:07<00:00, 44.3MB/s]\n",
            "100% 3.79G/3.79G [01:07<00:00, 60.0MB/s]\n"
          ]
        }
      ]
    },
    {
      "cell_type": "code",
      "metadata": {
        "id": "Ztl-MeS9bVH4",
        "outputId": "c5482e45-f607-49b7-adf1-b19ec750b261",
        "colab": {
          "base_uri": "https://localhost:8080/"
        }
      },
      "source": [
        "!unzip -q /content/deepglobe-road-extraction-dataset.zip -d /content/deep-globe"
      ],
      "execution_count": 8,
      "outputs": [
        {
          "output_type": "stream",
          "name": "stdout",
          "text": [
            "replace /content/deep-globe/class_dict.csv? [y]es, [n]o, [A]ll, [N]one, [r]ename: y\n",
            "replace /content/deep-globe/metadata.csv? [y]es, [n]o, [A]ll, [N]one, [r]ename: y\n",
            "replace /content/deep-globe/test/100393_sat.jpg? [y]es, [n]o, [A]ll, [N]one, [r]ename: Ay\n",
            "Ay\n",
            "A\n",
            "y\n"
          ]
        }
      ]
    },
    {
      "cell_type": "code",
      "metadata": {
        "id": "v5A7s-jNbZHT"
      },
      "source": [
        ""
      ],
      "execution_count": null,
      "outputs": []
    },
    {
      "cell_type": "code",
      "metadata": {
        "id": "evKhZKUfb2cr"
      },
      "source": [
        ""
      ],
      "execution_count": null,
      "outputs": []
    }
  ]
}