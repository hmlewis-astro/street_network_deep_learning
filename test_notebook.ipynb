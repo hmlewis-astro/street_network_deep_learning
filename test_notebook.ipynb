{
  "nbformat": 4,
  "nbformat_minor": 0,
  "metadata": {
    "colab": {
      "name": "test_notebook.ipynb",
      "provenance": [],
      "authorship_tag": "ABX9TyM0orkuXdNe1IY6rCggyoWn",
      "include_colab_link": true
    },
    "kernelspec": {
      "name": "python3",
      "display_name": "Python 3"
    },
    "language_info": {
      "name": "python"
    }
  },
  "cells": [
    {
      "cell_type": "markdown",
      "metadata": {
        "id": "view-in-github",
        "colab_type": "text"
      },
      "source": [
        "<a href=\"https://colab.research.google.com/github/hmlewis-astro/street_network_deep_learning/blob/main/test_notebook.ipynb\" target=\"_parent\"><img src=\"https://colab.research.google.com/assets/colab-badge.svg\" alt=\"Open In Colab\"/></a>"
      ]
    },
    {
      "cell_type": "markdown",
      "metadata": {
        "id": "IVcnn78jeIQP"
      },
      "source": [
        "# Download Kaggle API credentials\n",
        "#### **Note**: This is a one-time step and you don’t need to generate the credentials every time you download the dataset.\n",
        "- Navigate to your Kaggle profile\n",
        "- Click the \"Account\" tab\n",
        "- Scroll down to the \"API\" section\n",
        "- Click \"Create New API Token\"; a file named `kaggle.json` will be download which contains your username and API key\n",
        "\n",
        "# Upload Kaggle API credentials to Google Colab\n",
        "#### **Note**: Uploaded files will get deleted when this runtime is recycled.\n",
        "- Upload the `kaggle.json` file that you just downloaded from Kaggle\n",
        "- Run the following cell"
      ]
    },
    {
      "cell_type": "code",
      "metadata": {
        "id": "-6sWzwKcbPxF",
        "colab": {
          "base_uri": "https://localhost:8080/"
        },
        "outputId": "6aef945f-9eb3-4441-9335-7ce9f4042054"
      },
      "source": [
        "!pip install -q kaggle\n",
        "!mkdir ~/.kaggle\n",
        "!cp kaggle.json ~/.kaggle/\n",
        "!chmod 600 ~/.kaggle/kaggle.json\n",
        "!kaggle datasets download balraj98/deepglobe-road-extraction-dataset"
      ],
      "execution_count": 11,
      "outputs": [
        {
          "output_type": "stream",
          "name": "stdout",
          "text": [
            "mkdir: cannot create directory ‘/root/.kaggle’: File exists\n",
            "deepglobe-road-extraction-dataset.zip: Skipping, found more recently modified local copy (use --force to force download)\n"
          ]
        }
      ]
    },
    {
      "cell_type": "code",
      "metadata": {
        "id": "Ztl-MeS9bVH4"
      },
      "source": [
        "!unzip -q /content/deepglobe-road-extraction-dataset.zip -d /content/deep-globe"
      ],
      "execution_count": 12,
      "outputs": []
    },
    {
      "cell_type": "markdown",
      "metadata": {
        "id": "p4dwawGDiTnF"
      },
      "source": [
        "# Import packages and libraries"
      ]
    },
    {
      "cell_type": "code",
      "metadata": {
        "id": "pZxAjuatiXHQ"
      },
      "source": [
        "import os\n",
        "import glob\n",
        "\n",
        "import pandas as pd\n",
        "import numpy as np\n",
        "import matplotlib.pyplot as plt"
      ],
      "execution_count": 13,
      "outputs": []
    },
    {
      "cell_type": "code",
      "metadata": {
        "id": "XlD0waV7ijsZ",
        "outputId": "4d76b09f-34be-4314-8bd2-5af7f70bd4b2",
        "colab": {
          "base_uri": "https://localhost:8080/",
          "height": 111
        }
      },
      "source": [
        "class_dict_path = \"/deep-globe/class_dict.csv\"\n",
        "class_dict = pd.read_csv(class_dict_path)\n",
        "class_dict"
      ],
      "execution_count": 17,
      "outputs": [
        {
          "output_type": "execute_result",
          "data": {
            "text/html": [
              "<div>\n",
              "<style scoped>\n",
              "    .dataframe tbody tr th:only-of-type {\n",
              "        vertical-align: middle;\n",
              "    }\n",
              "\n",
              "    .dataframe tbody tr th {\n",
              "        vertical-align: top;\n",
              "    }\n",
              "\n",
              "    .dataframe thead th {\n",
              "        text-align: right;\n",
              "    }\n",
              "</style>\n",
              "<table border=\"1\" class=\"dataframe\">\n",
              "  <thead>\n",
              "    <tr style=\"text-align: right;\">\n",
              "      <th></th>\n",
              "      <th>name</th>\n",
              "      <th>r</th>\n",
              "      <th>g</th>\n",
              "      <th>b</th>\n",
              "    </tr>\n",
              "  </thead>\n",
              "  <tbody>\n",
              "    <tr>\n",
              "      <th>0</th>\n",
              "      <td>road</td>\n",
              "      <td>255</td>\n",
              "      <td>255</td>\n",
              "      <td>255</td>\n",
              "    </tr>\n",
              "    <tr>\n",
              "      <th>1</th>\n",
              "      <td>background</td>\n",
              "      <td>0</td>\n",
              "      <td>0</td>\n",
              "      <td>0</td>\n",
              "    </tr>\n",
              "  </tbody>\n",
              "</table>\n",
              "</div>"
            ],
            "text/plain": [
              "         name    r    g    b\n",
              "0        road  255  255  255\n",
              "1  background    0    0    0"
            ]
          },
          "metadata": {},
          "execution_count": 17
        }
      ]
    },
    {
      "cell_type": "code",
      "metadata": {
        "id": "tP52Rv99isSn",
        "outputId": "e8a1af6d-ad7d-4c8b-c52c-6736eab0034c",
        "colab": {
          "base_uri": "https://localhost:8080/",
          "height": 204
        }
      },
      "source": [
        "metadata_path = \"/deep-globe/metadata.csv\"\n",
        "metadata = pd.read_csv(metadata_path)\n",
        "metadata.head()"
      ],
      "execution_count": 29,
      "outputs": [
        {
          "output_type": "execute_result",
          "data": {
            "text/html": [
              "<div>\n",
              "<style scoped>\n",
              "    .dataframe tbody tr th:only-of-type {\n",
              "        vertical-align: middle;\n",
              "    }\n",
              "\n",
              "    .dataframe tbody tr th {\n",
              "        vertical-align: top;\n",
              "    }\n",
              "\n",
              "    .dataframe thead th {\n",
              "        text-align: right;\n",
              "    }\n",
              "</style>\n",
              "<table border=\"1\" class=\"dataframe\">\n",
              "  <thead>\n",
              "    <tr style=\"text-align: right;\">\n",
              "      <th></th>\n",
              "      <th>image_id</th>\n",
              "      <th>split</th>\n",
              "      <th>sat_image_path</th>\n",
              "      <th>mask_path</th>\n",
              "    </tr>\n",
              "  </thead>\n",
              "  <tbody>\n",
              "    <tr>\n",
              "      <th>0</th>\n",
              "      <td>100034</td>\n",
              "      <td>train</td>\n",
              "      <td>train/100034_sat.jpg</td>\n",
              "      <td>train/100034_mask.png</td>\n",
              "    </tr>\n",
              "    <tr>\n",
              "      <th>1</th>\n",
              "      <td>100081</td>\n",
              "      <td>train</td>\n",
              "      <td>train/100081_sat.jpg</td>\n",
              "      <td>train/100081_mask.png</td>\n",
              "    </tr>\n",
              "    <tr>\n",
              "      <th>2</th>\n",
              "      <td>100129</td>\n",
              "      <td>train</td>\n",
              "      <td>train/100129_sat.jpg</td>\n",
              "      <td>train/100129_mask.png</td>\n",
              "    </tr>\n",
              "    <tr>\n",
              "      <th>3</th>\n",
              "      <td>100703</td>\n",
              "      <td>train</td>\n",
              "      <td>train/100703_sat.jpg</td>\n",
              "      <td>train/100703_mask.png</td>\n",
              "    </tr>\n",
              "    <tr>\n",
              "      <th>4</th>\n",
              "      <td>100712</td>\n",
              "      <td>train</td>\n",
              "      <td>train/100712_sat.jpg</td>\n",
              "      <td>train/100712_mask.png</td>\n",
              "    </tr>\n",
              "  </tbody>\n",
              "</table>\n",
              "</div>"
            ],
            "text/plain": [
              "   image_id  split        sat_image_path              mask_path\n",
              "0    100034  train  train/100034_sat.jpg  train/100034_mask.png\n",
              "1    100081  train  train/100081_sat.jpg  train/100081_mask.png\n",
              "2    100129  train  train/100129_sat.jpg  train/100129_mask.png\n",
              "3    100703  train  train/100703_sat.jpg  train/100703_mask.png\n",
              "4    100712  train  train/100712_sat.jpg  train/100712_mask.png"
            ]
          },
          "metadata": {},
          "execution_count": 29
        }
      ]
    },
    {
      "cell_type": "code",
      "metadata": {
        "id": "RuM5WVTTivJz",
        "outputId": "75e1765b-9106-443c-a1b9-eb314ad32f22",
        "colab": {
          "base_uri": "https://localhost:8080/",
          "height": 309
        }
      },
      "source": [
        "# get training/validation data, i.e., images with available road masks\n",
        "metadata_train = metadata[metadata['split'] == 'train']\n",
        "metadata_train.drop('split', inplace=True, axis=1)\n",
        "metadata_train.head()"
      ],
      "execution_count": 30,
      "outputs": [
        {
          "output_type": "stream",
          "name": "stderr",
          "text": [
            "/usr/local/lib/python3.7/dist-packages/pandas/core/frame.py:4174: SettingWithCopyWarning: \n",
            "A value is trying to be set on a copy of a slice from a DataFrame\n",
            "\n",
            "See the caveats in the documentation: https://pandas.pydata.org/pandas-docs/stable/user_guide/indexing.html#returning-a-view-versus-a-copy\n",
            "  errors=errors,\n"
          ]
        },
        {
          "output_type": "execute_result",
          "data": {
            "text/html": [
              "<div>\n",
              "<style scoped>\n",
              "    .dataframe tbody tr th:only-of-type {\n",
              "        vertical-align: middle;\n",
              "    }\n",
              "\n",
              "    .dataframe tbody tr th {\n",
              "        vertical-align: top;\n",
              "    }\n",
              "\n",
              "    .dataframe thead th {\n",
              "        text-align: right;\n",
              "    }\n",
              "</style>\n",
              "<table border=\"1\" class=\"dataframe\">\n",
              "  <thead>\n",
              "    <tr style=\"text-align: right;\">\n",
              "      <th></th>\n",
              "      <th>image_id</th>\n",
              "      <th>sat_image_path</th>\n",
              "      <th>mask_path</th>\n",
              "    </tr>\n",
              "  </thead>\n",
              "  <tbody>\n",
              "    <tr>\n",
              "      <th>0</th>\n",
              "      <td>100034</td>\n",
              "      <td>train/100034_sat.jpg</td>\n",
              "      <td>train/100034_mask.png</td>\n",
              "    </tr>\n",
              "    <tr>\n",
              "      <th>1</th>\n",
              "      <td>100081</td>\n",
              "      <td>train/100081_sat.jpg</td>\n",
              "      <td>train/100081_mask.png</td>\n",
              "    </tr>\n",
              "    <tr>\n",
              "      <th>2</th>\n",
              "      <td>100129</td>\n",
              "      <td>train/100129_sat.jpg</td>\n",
              "      <td>train/100129_mask.png</td>\n",
              "    </tr>\n",
              "    <tr>\n",
              "      <th>3</th>\n",
              "      <td>100703</td>\n",
              "      <td>train/100703_sat.jpg</td>\n",
              "      <td>train/100703_mask.png</td>\n",
              "    </tr>\n",
              "    <tr>\n",
              "      <th>4</th>\n",
              "      <td>100712</td>\n",
              "      <td>train/100712_sat.jpg</td>\n",
              "      <td>train/100712_mask.png</td>\n",
              "    </tr>\n",
              "  </tbody>\n",
              "</table>\n",
              "</div>"
            ],
            "text/plain": [
              "   image_id        sat_image_path              mask_path\n",
              "0    100034  train/100034_sat.jpg  train/100034_mask.png\n",
              "1    100081  train/100081_sat.jpg  train/100081_mask.png\n",
              "2    100129  train/100129_sat.jpg  train/100129_mask.png\n",
              "3    100703  train/100703_sat.jpg  train/100703_mask.png\n",
              "4    100712  train/100712_sat.jpg  train/100712_mask.png"
            ]
          },
          "metadata": {},
          "execution_count": 30
        }
      ]
    },
    {
      "cell_type": "code",
      "metadata": {
        "id": "Woy3Du8clfwu",
        "outputId": "c64f4343-79f6-462e-dba7-c25a32988e29",
        "colab": {
          "base_uri": "https://localhost:8080/"
        }
      },
      "source": [
        "metadata_train.shape"
      ],
      "execution_count": 32,
      "outputs": [
        {
          "output_type": "execute_result",
          "data": {
            "text/plain": [
              "(6226, 3)"
            ]
          },
          "metadata": {},
          "execution_count": 32
        }
      ]
    },
    {
      "cell_type": "code",
      "metadata": {
        "id": "o9tC9am-jmUq",
        "outputId": "11b9785d-05ce-4caf-8241-e1cc93160e70",
        "colab": {
          "base_uri": "https://localhost:8080/",
          "height": 309
        }
      },
      "source": [
        "# get test data, i.e., images without available road masks\n",
        "#    combine the datasets defined as \"validation\" and \"test\", because the\n",
        "#    \"validation\" set does not have road masks, so cannot actually be used\n",
        "#    for validation\n",
        "metadata_test = metadata[(metadata['split'] == 'valid') | \n",
        "                         (metadata['split'] == 'test')]\n",
        "metadata_test.drop(['split', 'mask_path'], inplace=True, axis=1)\n",
        "metadata_test.head()"
      ],
      "execution_count": 31,
      "outputs": [
        {
          "output_type": "stream",
          "name": "stderr",
          "text": [
            "/usr/local/lib/python3.7/dist-packages/pandas/core/frame.py:4174: SettingWithCopyWarning: \n",
            "A value is trying to be set on a copy of a slice from a DataFrame\n",
            "\n",
            "See the caveats in the documentation: https://pandas.pydata.org/pandas-docs/stable/user_guide/indexing.html#returning-a-view-versus-a-copy\n",
            "  errors=errors,\n"
          ]
        },
        {
          "output_type": "execute_result",
          "data": {
            "text/html": [
              "<div>\n",
              "<style scoped>\n",
              "    .dataframe tbody tr th:only-of-type {\n",
              "        vertical-align: middle;\n",
              "    }\n",
              "\n",
              "    .dataframe tbody tr th {\n",
              "        vertical-align: top;\n",
              "    }\n",
              "\n",
              "    .dataframe thead th {\n",
              "        text-align: right;\n",
              "    }\n",
              "</style>\n",
              "<table border=\"1\" class=\"dataframe\">\n",
              "  <thead>\n",
              "    <tr style=\"text-align: right;\">\n",
              "      <th></th>\n",
              "      <th>image_id</th>\n",
              "      <th>sat_image_path</th>\n",
              "    </tr>\n",
              "  </thead>\n",
              "  <tbody>\n",
              "    <tr>\n",
              "      <th>6226</th>\n",
              "      <td>100794</td>\n",
              "      <td>valid/100794_sat.jpg</td>\n",
              "    </tr>\n",
              "    <tr>\n",
              "      <th>6227</th>\n",
              "      <td>100905</td>\n",
              "      <td>valid/100905_sat.jpg</td>\n",
              "    </tr>\n",
              "    <tr>\n",
              "      <th>6228</th>\n",
              "      <td>102867</td>\n",
              "      <td>valid/102867_sat.jpg</td>\n",
              "    </tr>\n",
              "    <tr>\n",
              "      <th>6229</th>\n",
              "      <td>10417</td>\n",
              "      <td>valid/10417_sat.jpg</td>\n",
              "    </tr>\n",
              "    <tr>\n",
              "      <th>6230</th>\n",
              "      <td>106553</td>\n",
              "      <td>valid/106553_sat.jpg</td>\n",
              "    </tr>\n",
              "  </tbody>\n",
              "</table>\n",
              "</div>"
            ],
            "text/plain": [
              "      image_id        sat_image_path\n",
              "6226    100794  valid/100794_sat.jpg\n",
              "6227    100905  valid/100905_sat.jpg\n",
              "6228    102867  valid/102867_sat.jpg\n",
              "6229     10417   valid/10417_sat.jpg\n",
              "6230    106553  valid/106553_sat.jpg"
            ]
          },
          "metadata": {},
          "execution_count": 31
        }
      ]
    },
    {
      "cell_type": "code",
      "metadata": {
        "id": "ehEKKQ4kljF7",
        "outputId": "f4779ba4-53cd-49e2-9028-f6a0aeecf608",
        "colab": {
          "base_uri": "https://localhost:8080/"
        }
      },
      "source": [
        "metadata_test.shape"
      ],
      "execution_count": 33,
      "outputs": [
        {
          "output_type": "execute_result",
          "data": {
            "text/plain": [
              "(2344, 2)"
            ]
          },
          "metadata": {},
          "execution_count": 33
        }
      ]
    },
    {
      "cell_type": "code",
      "metadata": {
        "id": "Pt5Sr7cLkstQ"
      },
      "source": [
        "data_path = \"/deep-globe/\"\n"
      ],
      "execution_count": 34,
      "outputs": []
    },
    {
      "cell_type": "code",
      "metadata": {
        "id": "CNTJT4Fhl2F0",
        "outputId": "812899fb-9f86-4a4c-a6e1-00edfa034514",
        "colab": {
          "base_uri": "https://localhost:8080/"
        }
      },
      "source": [
        "metadata_train[\"sat_image_path\"] = metadata_train[\"sat_image_path\"] \\\n",
        "                                    .apply(lambda x: os.path.join(data_path,x))\n",
        "metadata_train[\"mask_path\"] = metadata_train[\"mask_path\"] \\\n",
        "                                    .apply(lambda x: os.path.join(data_path,x))\n"
      ],
      "execution_count": 37,
      "outputs": [
        {
          "output_type": "stream",
          "name": "stderr",
          "text": [
            "/usr/local/lib/python3.7/dist-packages/ipykernel_launcher.py:1: SettingWithCopyWarning: \n",
            "A value is trying to be set on a copy of a slice from a DataFrame.\n",
            "Try using .loc[row_indexer,col_indexer] = value instead\n",
            "\n",
            "See the caveats in the documentation: https://pandas.pydata.org/pandas-docs/stable/user_guide/indexing.html#returning-a-view-versus-a-copy\n",
            "  \"\"\"Entry point for launching an IPython kernel.\n",
            "/usr/local/lib/python3.7/dist-packages/ipykernel_launcher.py:2: SettingWithCopyWarning: \n",
            "A value is trying to be set on a copy of a slice from a DataFrame.\n",
            "Try using .loc[row_indexer,col_indexer] = value instead\n",
            "\n",
            "See the caveats in the documentation: https://pandas.pydata.org/pandas-docs/stable/user_guide/indexing.html#returning-a-view-versus-a-copy\n",
            "  \n"
          ]
        }
      ]
    },
    {
      "cell_type": "code",
      "metadata": {
        "id": "hlitFt7omNxo",
        "outputId": "5bd337ba-b00a-48f3-d6da-5727bacf4d09",
        "colab": {
          "base_uri": "https://localhost:8080/"
        }
      },
      "source": [
        "metadata_test[\"sat_image_path\"] = metadata_test[\"sat_image_path\"] \\\n",
        "                                    .apply(lambda x: os.path.join(data_path,x))\n"
      ],
      "execution_count": 39,
      "outputs": [
        {
          "output_type": "stream",
          "name": "stderr",
          "text": [
            "/usr/local/lib/python3.7/dist-packages/ipykernel_launcher.py:1: SettingWithCopyWarning: \n",
            "A value is trying to be set on a copy of a slice from a DataFrame.\n",
            "Try using .loc[row_indexer,col_indexer] = value instead\n",
            "\n",
            "See the caveats in the documentation: https://pandas.pydata.org/pandas-docs/stable/user_guide/indexing.html#returning-a-view-versus-a-copy\n",
            "  \"\"\"Entry point for launching an IPython kernel.\n"
          ]
        }
      ]
    },
    {
      "cell_type": "code",
      "metadata": {
        "id": "ZHmHCbNnmcov"
      },
      "source": [
        ""
      ],
      "execution_count": null,
      "outputs": []
    }
  ]
}